{
 "cells": [
  {
   "cell_type": "markdown",
   "id": "7a60b8e0",
   "metadata": {},
   "source": [
    "## State Sales Analysis\n",
    "\n",
    "A dash application with the following front-end components\n",
    "\n",
    "* A text title \"Select a State to Analyze:\"\n",
    "* A Dropdown Menu that Contains the Options 'California', 'Oregon', and 'Washington'\n",
    "* Text \"State Selected: X\" where X is the state selected in the Dropdown Menu"
   ]
  },
  {
   "cell_type": "code",
   "execution_count": 6,
   "id": "c16cdf53",
   "metadata": {},
   "outputs": [
    {
     "data": {
      "text/html": [
       "\n",
       "        <iframe\n",
       "            width=\"100%\"\n",
       "            height=\"650\"\n",
       "            src=\"http://127.0.0.1:8765/\"\n",
       "            frameborder=\"0\"\n",
       "            allowfullscreen\n",
       "            \n",
       "        ></iframe>\n",
       "        "
      ],
      "text/plain": [
       "<IPython.lib.display.IFrame at 0x1dea2ef7c70>"
      ]
     },
     "metadata": {},
     "output_type": "display_data"
    }
   ],
   "source": [
    "from jupyter_dash import JupyterDash\n",
    "from dash import html, dcc\n",
    "from dash.dependencies import Output, Input\n",
    "from dash.exceptions import PreventUpdate\n",
    "\n",
    "import plotly.express as px\n",
    "import pandas as pd\n",
    "\n",
    "df = pd.read_csv(\"../Data/states_all.csv\", usecols=[\"STATE\", \"YEAR\", \"TOTAL_EXPENDITURE\"])\n",
    "\n",
    "app = JupyterDash(__name__)\n",
    "\n",
    "app.layout = html.Div(\n",
    "    [\"Select a State to Analyze: \",\n",
    "    dcc.Dropdown(\n",
    "        id=\"State Dropdown\",\n",
    "        options=[\"California\", \"Oregon\", \"Washington\"]\n",
    "     ),\n",
    "     dcc.Graph(id=\"visual\")\n",
    "])\n",
    "\n",
    "@app.callback(\n",
    "    Output(\"visual\", \"figure\"), \n",
    "    Input(\"State Dropdown\", \"value\")\n",
    ")\n",
    "def update_output_div(state):\n",
    "    if not state:\n",
    "        raise PreventUpdate\n",
    "    figure = px.line(\n",
    "        df.query(f\"STATE == '{state.upper()}' & YEAR > 1992\"), \n",
    "        x=\"YEAR\", \n",
    "        y=\"TOTAL_EXPENDITURE\", \n",
    "        title=f\"Expenditure in {state}\"\n",
    "    ) \n",
    "    return figure\n",
    "\n",
    "if __name__ == \"__main__\":\n",
    "    app.run_server(mode=\"inline\", debug=True, port=8765)"
   ]
  }
 ],
 "metadata": {
  "kernelspec": {
   "display_name": "Python 3 (ipykernel)",
   "language": "python",
   "name": "python3"
  },
  "language_info": {
   "codemirror_mode": {
    "name": "ipython",
    "version": 3
   },
   "file_extension": ".py",
   "mimetype": "text/x-python",
   "name": "python",
   "nbconvert_exporter": "python",
   "pygments_lexer": "ipython3",
   "version": "3.9.13"
  }
 },
 "nbformat": 4,
 "nbformat_minor": 5
}
